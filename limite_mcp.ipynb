{
 "cells": [
  {
   "cell_type": "code",
   "execution_count": 1,
   "metadata": {},
   "outputs": [],
   "source": [
    "import datetime\n",
    "import numpy as np\n",
    "import matplotlib.pyplot as plt\n",
    "import scipy as sp\n",
    "from scipy.stats import poisson, chi2, expon, binom\n",
    "from scipy.optimize import curve_fit, minimize\n",
    "from functools import partial \n",
    "from scipy.integrate import quad\n",
    "from scipy.special import gammaln\n",
    "import pandas as pd\n",
    "import time\n",
    "import random as rnd\n",
    "from tqdm import tqdm\n",
    "import math \n",
    "import sympy \n",
    "from mpl_toolkits.mplot3d import Axes3D\n",
    "from matplotlib.animation import FuncAnimation\n",
    "import csv\n",
    "\n",
    "colors=['darkcyan','indianred','#fb8b24','#392f5a',  'palegoldenrod','olivedrab']\n"
   ]
  },
  {
   "cell_type": "markdown",
   "metadata": {},
   "source": [
    "## Defino funciones que uso"
   ]
  },
  {
   "cell_type": "code",
   "execution_count": 2,
   "metadata": {},
   "outputs": [],
   "source": [
    "#errores del histograma\n",
    "def errores(histo,rep):\n",
    "    total=histo.sum()\n",
    "    p_i=histo/total\n",
    "    err_y=np.sqrt(total/rep*p_i*(1-p_i))\n",
    "    return err_y"
   ]
  },
  {
   "cell_type": "code",
   "execution_count": 3,
   "metadata": {},
   "outputs": [],
   "source": [
    "def ln_poisson_bin(n, nu): \n",
    "    return(n*np.log(nu)-gammaln(n+1)-nu)\n",
    "\n",
    "def lnL(mu,theta,n,m,sM,tau=1):\n",
    "    lnL=0\n",
    "    for i in range(len(n)):\n",
    "        on = ln_poisson_bin(n[i],mu*sM[i]+theta)\n",
    "        off = ln_poisson_bin(m[i],tau*theta)\n",
    "        lnL += on+off \n",
    "        return lnL\n",
    "    \n",
    "def mlnL2(params,kON,kOFF,sM,tau):\n",
    "    mu, theta = params[0], params[1]\n",
    "    return -1*lnL(mu,theta,kON,kOFF,sM,tau)\n",
    "\n",
    "def mlnL1(params,mu,kON,kOFF,sM,tau):\n",
    "    theta = params[0]\n",
    "    return -1*lnL(mu,theta,kON,kOFF,sM,tau)\n"
   ]
  },
  {
   "cell_type": "code",
   "execution_count": 4,
   "metadata": {},
   "outputs": [],
   "source": [
    "def p_val(mu, kON, kOFF, sM, tau, mu_hat, theta_hat):\n",
    "        initial_guess = [0.1]\n",
    "        bounds = ((1e-5,10),) #limites para mu y theta \n",
    "        result = minimize(mlnL1, initial_guess, args=(mu, kON, kOFF, sM, tau), bounds=bounds)\n",
    "        theta_hat_hat = result.x\n",
    "        LLR = -2*(lnL(mu,theta_hat_hat,kON,kOFF,sM, tau)[0]- lnL(mu_hat,theta_hat,kON,kOFF,sM, tau))\n",
    "        pval = chi2.sf(LLR, df=1, scale=1)\n",
    "        return(pval, LLR)"
   ]
  },
  {
   "cell_type": "markdown",
   "metadata": {},
   "source": [
    "## Defino mis datos"
   ]
  },
  {
   "cell_type": "code",
   "execution_count": 5,
   "metadata": {},
   "outputs": [
    {
     "name": "stdout",
     "output_type": "stream",
     "text": [
      "1.5346404000000002 4.257142857142857\n",
      "Optimización del denominador:\n",
      "Valor óptimo de mu: 2.606\n",
      "Valor óptimo de theta: 0.0\n",
      "Valor óptimo de Log Likehood -1.633\n",
      "\n",
      "Optimización del numerador:\n",
      "Valor óptimo de theta para mu = 2.606: 0.0\n",
      "Valor óptimo de Log Likehood -1.633\n",
      "Valor LLR 0.0\n",
      "p-value 0.993\n",
      "\n",
      "$\\mu$ con 90$\\%$ CL 5.386473586717785\n",
      "p-value 0.09973804246607162\n",
      "LLR 2.709727257728012\n",
      "$\\epsilon$ 1.523442733457072\n"
     ]
    }
   ],
   "source": [
    "kON=np.array([4]) #n\n",
    "kOFF=np.array([0]) #m\n",
    "binsize=10 # eV\n",
    "val=102996*14.9/1000000  #--> rate[dru]*10eV  ==> Nev = rate*exposure[g day]/1000 kg / 1000 eV   massa mCP = 1eV  dru = eventos/kg/day/keV\n",
    "sM=np.array([val])\n",
    "expoON=14.9 # g day\n",
    "expoOFF=3.5 # g day\n",
    "tau=expoON/expoOFF\n",
    "print(val,tau)\n",
    "\n",
    "#minimizamos el denominador de (2)\n",
    "\n",
    "initial_guess = [0,100]\n",
    "bounds = ((1e-5,10),(1e-10,1000))\n",
    "result = minimize(mlnL2, initial_guess, args=(kON, kOFF, sM, tau), bounds=bounds)\n",
    "mu_hat, theta_hat = result.x\n",
    "lnL_den = lnL(mu_hat,theta_hat,kON,kOFF,sM, tau)\n",
    "print(\"Optimización del denominador:\")\n",
    "print(\"Valor óptimo de mu:\", round(mu_hat,3))\n",
    "print(\"Valor óptimo de theta:\", round(theta_hat,3))\n",
    "print(\"Valor óptimo de Log Likehood\", round(lnL_den,3))\n",
    "print('')\n",
    "\n",
    "\n",
    "#minimizamos el numerador de (2)\n",
    "mu=mu_hat\n",
    "initial_guess2 = [1]  \n",
    "bounds2 = ((1e-5,10),)\n",
    "\n",
    "result2 = minimize(mlnL1, initial_guess2, args=(mu, kON, kOFF, sM, tau), bounds=bounds2)\n",
    "theta_hat_hat = result2.x\n",
    "lnL_num = lnL(mu,theta_hat_hat,kON,kOFF,sM, tau)\n",
    "print(\"Optimización del numerador:\")\n",
    "print(f\"Valor óptimo de theta para mu = {np.round(mu,3)}:\", round(theta_hat_hat[0],3))\n",
    "print(\"Valor óptimo de Log Likehood\", round(lnL_num[0],3))\n",
    "\n",
    "#calculo el cociente\n",
    "\n",
    "LLR = -2*(lnL_num[0]-lnL_den)\n",
    "print(\"Valor LLR\", round(LLR,3)) #chequeo, dan 0 así que bien\n",
    "\n",
    "pval = chi2.sf(LLR, df=1) #la sf es 1-cdf\n",
    "print(\"p-value\", round(pval,3)) #chequeo, dan 0 así que bien\n",
    "\n",
    "t_mu = -2*(lnL(mu,theta_hat_hat,kON,kOFF,sM, tau)[0]-lnL_den) #en funcion de mu\n",
    "pval_mu = chi2.sf(t_mu, df=1, scale=1)\n",
    "delta = 0.01\n",
    "mu = mu_hat + delta\n",
    "alpha = 0.1\n",
    "\n",
    "while pval > alpha:\n",
    "    pval, LLR = p_val(mu, kON, kOFF, sM, tau, mu_hat, theta_hat) \n",
    "    mu += delta\n",
    "    \n",
    "print('')    \n",
    "print(r'$\\mu$ con 90$\\%$ CL', mu)\n",
    "print(r'p-value', pval)\n",
    "print(r'LLR', LLR)\n",
    "\n",
    "print(r'$\\epsilon$', mu**(1/4))"
   ]
  },
  {
   "cell_type": "markdown",
   "metadata": {},
   "source": [
    "### Ahora para Atucha\n",
    "¿Cómo tenemos en cuenta los errores?"
   ]
  },
  {
   "cell_type": "code",
   "execution_count": 6,
   "metadata": {},
   "outputs": [
    {
     "name": "stdout",
     "output_type": "stream",
     "text": [
      "0.062249855436 2.7869972009720514\n",
      "Optimización del denominador:\n",
      "Valor óptimo de mu: 5256.768\n",
      "Valor óptimo de theta: 3119.037\n",
      "Valor óptimo de Log Likehood -11.034\n",
      "\n",
      "Optimización del numerador:\n",
      "Valor óptimo de theta para mu = 5256.768: 3118.393\n",
      "Valor óptimo de Log Likehood -11.035\n",
      "Valor LLR 2.71\n",
      "p-value 0.976\n",
      "\n",
      "$\\mu$ con 90$\\%$ CL 5256.787678054281\n",
      "p-value 0.0\n",
      "LLR 2.709727257728012\n",
      "$\\epsilon$ 8.514910923179892\n"
     ]
    }
   ],
   "source": [
    "kON_a=np.array([11186]) #n\n",
    "kOFF_a=np.array([8694]) #m\n",
    "binsize=10 # eV\n",
    "val_a=102996*0.604391/1000000  #--> rate[dru]*10eV  ==> Nev = rate*exposure[g day]/1000 kg / 1000 eV   massa mCP = 1eV  dru = eventos/kg/day/keV\n",
    "sM_a=np.array([val])\n",
    "expoON_a=0.604391 # g day\n",
    "expoOFF_a=0.216861# g day\n",
    "tau_a=expoON_a/expoOFF_a\n",
    "print(val_a,tau_a)\n",
    "\n",
    "#minimizamos el denominador de (2)\n",
    "\n",
    "initial_guess_a = [500,1000]\n",
    "bounds_a = ((1e-5,10000),(1e-10,10000000))\n",
    "result_a = minimize(mlnL2, initial_guess_a, args=(kON_a, kOFF_a, sM_a, tau_a), bounds=bounds_a)\n",
    "mu_hat_a, theta_hat_a = result_a.x\n",
    "lnL_den_a = lnL(mu_hat_a,theta_hat_a,kON_a,kOFF_a,sM_a, tau_a)\n",
    "print(\"Optimización del denominador:\")\n",
    "print(\"Valor óptimo de mu:\", round(mu_hat_a,3))\n",
    "print(\"Valor óptimo de theta:\", round(theta_hat_a,3))\n",
    "print(\"Valor óptimo de Log Likehood\", round(lnL_den_a,3))\n",
    "print('')\n",
    "\n",
    "\n",
    "#minimizamos el numerador de (2)\n",
    "mu_a=mu_hat_a\n",
    "initial_guess2_a = [1]  \n",
    "bounds2_a = ((1e-5,10000),)\n",
    "\n",
    "result2_a = minimize(mlnL1, initial_guess2_a, args=(mu_a, kON_a, kOFF_a, sM_a, tau_a), bounds=bounds2_a)\n",
    "theta_hat_hat_a = result2_a.x\n",
    "lnL_num_a = lnL(mu_a,theta_hat_hat_a,kON_a,kOFF_a,sM_a, tau_a)\n",
    "print(\"Optimización del numerador:\")\n",
    "print(f\"Valor óptimo de theta para mu = {np.round(mu_a,3)}:\", round(theta_hat_hat_a[0],3))\n",
    "print(\"Valor óptimo de Log Likehood\", round(lnL_num_a[0],3))\n",
    "\n",
    "#calculo el cociente\n",
    "\n",
    "LLR_a = -2*(lnL_num_a[0]-lnL_den_a)\n",
    "print(\"Valor LLR\", round(LLR,3)) #chequeo, dan 0 así que bien\n",
    "\n",
    "pval_a = chi2.sf(LLR_a, df=1) #la sf es 1-cdf\n",
    "print(\"p-value\", round(pval_a,3)) #chequeo, dan 0 así que bien\n",
    "\n",
    "t_mu_a = -2*(lnL(mu_a,theta_hat_hat_a,kON_a,kOFF_a,sM_a, tau_a)[0]-lnL_den_a) #en funcion de mu\n",
    "pval_mu_a = chi2.sf(t_mu_a, df=1, scale=1)\n",
    "delta_a = 0.01\n",
    "mu_a = mu_hat_a + delta_a\n",
    "alpha_a = 0.1\n",
    "\n",
    "while pval_a > alpha_a:\n",
    "    pval_a, LLR_a = p_val(mu_a, kON_a, kOFF_a, sM_a, tau_a, mu_hat_a, theta_hat_a) \n",
    "    mu_a += delta_a\n",
    "    \n",
    "print('')    \n",
    "print(r'$\\mu$ con 90$\\%$ CL', mu_a)\n",
    "print(r'p-value', pval_a)\n",
    "print(r'LLR', LLR)\n",
    "\n",
    "print(r'$\\epsilon$', mu_a**(1/4))"
   ]
  },
  {
   "cell_type": "code",
   "execution_count": 7,
   "metadata": {},
   "outputs": [],
   "source": [
    "\n",
    "def calc_epsilon(rate, ctes, bounds):\n",
    "    kON, kOFF, expoON, expoOFF, binsize, tau = ctes\n",
    "    val=binsize*rate*14.9/1000000 #rate eventos/(kg keV day), un mil viene de pasar de kg a g y el otro de pasar de keV a eV\n",
    "    sM=np.array([val])\n",
    "    \n",
    "    #minimizamos el denominador de (2)\n",
    "    initial_guess = [0,100]\n",
    "    \n",
    "    result = minimize(mlnL2, initial_guess, args=(kON, kOFF, sM, tau), bounds=bounds)\n",
    "    mu_hat, theta_hat = result.x\n",
    "    lnL_den = lnL(mu_hat,theta_hat,kON,kOFF,sM, tau)\n",
    "   \n",
    "    #minimizamos el numerador de (2)\n",
    "    mu=mu_hat\n",
    "    initial_guess2 = [1]  \n",
    "    bounds2 = ((1e-5,10),)\n",
    "    result2 = minimize(mlnL1, initial_guess2, args=(mu, kON, kOFF, sM, tau), bounds=bounds2)\n",
    "    theta_hat_hat = result2.x\n",
    "    lnL_num = lnL(mu,theta_hat_hat,kON,kOFF,sM, tau)\n",
    "    \n",
    "    #calculo el cociente\n",
    "    LLR = -2*(lnL_num[0]-lnL_den)\n",
    "    pval = chi2.sf(LLR, df=1) #la sf es 1-cdf\n",
    "    \n",
    "    #itero sobre mu\n",
    "    t_mu = -2*(lnL(mu,theta_hat_hat,kON,kOFF,sM, tau)[0]-lnL_den) #en funcion de mu\n",
    "    pval_mu = chi2.sf(t_mu, df=1, scale=1)\n",
    "    delta = 0.01\n",
    "    mu = mu_hat + delta\n",
    "    alpha = 0.1\n",
    "\n",
    "    while pval > alpha:\n",
    "        pval, LLR = p_val(mu, kON, kOFF, sM, tau, mu_hat, theta_hat) \n",
    "        mu += delta\n",
    "        \n",
    "    epsilon = mu**(1/4)\n",
    "    \n",
    "    return epsilon"
   ]
  },
  {
   "cell_type": "code",
   "execution_count": 8,
   "metadata": {},
   "outputs": [
    {
     "name": "stdout",
     "output_type": "stream",
     "text": [
      "[ 6604.18    1027.37    8451.89    2908.75     641.361  10299.6\n",
      "  4756.47     421.994    268.599    171.111     63.2606]\n"
     ]
    }
   ],
   "source": [
    "kON=np.array([4]) #n\n",
    "kOFF=np.array([0]) #m\n",
    "expoON=14.9 # g day\n",
    "expoOFF=3.5 # g day\n",
    "binsize=10 # eV\n",
    "tau=expoON/expoOFF\n",
    "\n",
    "rate10 = [66041.8, 10273.7, 84518.9, 29087.5, 6413.61, 102996, 47564.7, 4219.94, 2685.99, 1711.11, 632.606] #rate*10eV\n",
    "m_mev=[0.0001, 0.1, 1e-5, 0.01, 0.15, 1e-6, 0.001, 0.2, 0.25, 0.3, 0.4] #EN MEV\n",
    "m_mev=np.array([m_mev])[0] \n",
    "rate= (np.array([rate10])*0.1)[0] #por como dario nos dio los datos\n",
    "ctes=kON, kOFF, expoON, expoOFF, binsize, tau\n",
    "bounds = ((1e-5,10),(1e-10,1000))\n",
    "print(rate)"
   ]
  },
  {
   "cell_type": "code",
   "execution_count": 12,
   "metadata": {},
   "outputs": [
    {
     "name": "stderr",
     "output_type": "stream",
     "text": [
      "100%|██████████| 11/11 [03:24<00:00, 18.55s/it]\n"
     ]
    }
   ],
   "source": [
    "epsilons = np.array([])\n",
    "for i in tqdm(range(len(rate))):\n",
    "    epsilon_i = calc_epsilon(rate[i], ctes, bounds)\n",
    "    epsilons =np.append(epsilons, epsilon_i)\n",
    "\n",
    "epsilon=epsilons*10**(-6)"
   ]
  },
  {
   "cell_type": "markdown",
   "metadata": {},
   "source": [
    "### Atucha"
   ]
  },
  {
   "cell_type": "code",
   "execution_count": 15,
   "metadata": {},
   "outputs": [
    {
     "name": "stderr",
     "output_type": "stream",
     "text": [
      "100%|██████████| 11/11 [1:20:00<00:00, 436.40s/it] \n"
     ]
    }
   ],
   "source": [
    "kON_a=np.array([187]) #n\n",
    "kOFF_a=np.array([24]) #m\n",
    "binsize=10 # eV\n",
    "val_a=102996*(25/8)*0.604391/1000000  #--> rate[dru]*10eV  ==> Nev = rate*exposure[g day]/1000 kg / 1000 eV   massa mCP = 1eV  dru = eventos/kg/day/keV\n",
    "sM_a=np.array([val])\n",
    "expoON_a=0.604391*1000 # g day\n",
    "expoOFF_a=0.216861*1000 # g day\n",
    "tau_a=expoON_a/expoOFF_a\n",
    "\n",
    "\n",
    "\n",
    "rate_a= (np.array([rate])*(25/8))[0] #paso de connie a atucha\n",
    "ctes_a=kON_a, kOFF_a, expoON_a, expoOFF_a, binsize, tau_a\n",
    "bounds_a = ((1,1000),(1,100000))\n",
    "\n",
    "epsilons_a = np.array([])\n",
    "for i in tqdm(range(len(rate_a))):\n",
    "    epsilon_i_a = calc_epsilon(rate_a[i], ctes_a, bounds_a)\n",
    "    epsilons_a =np.append(epsilons_a, epsilon_i_a)\n",
    "\n",
    "epsilon_a=epsilons_a*10**(-6)"
   ]
  },
  {
   "cell_type": "markdown",
   "metadata": {},
   "source": [
    "### Texono"
   ]
  },
  {
   "cell_type": "code",
   "execution_count": 18,
   "metadata": {},
   "outputs": [
    {
     "data": {
      "image/png": "[encoded data removed]",
      "text/plain": [
       "<Figure size 432x288 with 1 Axes>"
      ]
     },
     "metadata": {
      "needs_background": "light"
     },
     "output_type": "display_data"
    }
   ],
   "source": [
    "#GeV/c^2\n",
    "\n",
    "csv_file_path = 'c:/Users/Zoe/Desktop/Labo 67/espectros/Texono_Limit_Data.csv'\n",
    "\n",
    "m_gev_texono = []\n",
    "epsilon_texono = []\n",
    "\n",
    "# Open the CSV file\n",
    "with open(csv_file_path, 'r') as file:\n",
    "    csv_reader = csv.reader(file)\n",
    "\n",
    "    # Iterate through each row in the CSV file\n",
    "    for row in csv_reader:\n",
    "        m_gev_texono.append(float(row[0]))\n",
    "        epsilon_texono.append(float(row[1]))\n",
    "      \n",
    "m_gev_texono = np.array([m_gev_texono])\n",
    "epsilon_texono = np.array([epsilon_texono]) \n",
    "m_mev_texono = m_gev_texono*10**(3)     \n",
    "\n",
    "epsilon_texono=epsilon_texono[0]\n",
    "m_mev_texono=m_mev_texono[0]\n",
    "\n",
    "plt.scatter(m_mev_texono, epsilon_texono, label='TEXONO')\n",
    "plt.scatter(m_mev, epsilon, label='CONNIE')\n",
    "plt.scatter(m_mev, epsilon_a, label='Atucha')\n",
    "\n",
    "plt.xlabel('masa (MeV)')\n",
    "plt.ylabel(r'$\\epsilon$')\n",
    "plt.legend()\n",
    "plt.xscale('log')\n",
    "plt.yscale('log')\n",
    "plt.grid(True)\n",
    "plt.show() "
   ]
  },
  {
   "cell_type": "code",
   "execution_count": 19,
   "metadata": {},
   "outputs": [
    {
     "data": {
      "image/png": "[encoded data removed]",
      "text/plain": [
       "<Figure size 432x288 with 1 Axes>"
      ]
     },
     "metadata": {
      "needs_background": "light"
     },
     "output_type": "display_data"
    }
   ],
   "source": [
    "m_mev=np.sort(m_mev)\n",
    "epsilon=np.sort(epsilon)\n",
    "epsilon_a=np.sort(epsilon_a)\n",
    "m_mev_texono=np.sort(m_mev_texono)\n",
    "epsilon_texono=np.sort(epsilon_texono)\n",
    "\n",
    "\n",
    "fill_value = 1.0\n",
    "plt.plot(m_mev_texono, epsilon_texono, label='TEXONO', color=colors[0])\n",
    "plt.plot(m_mev, epsilon, label='CONNIE', color=colors[1])\n",
    "plt.plot(m_mev, epsilon_a, label='Atucha', color=colors[3])\n",
    "plt.fill_between(m_mev, epsilon, fill_value, color=colors[1], alpha=0.2)\n",
    "\n",
    "\n",
    "plt.xlabel('masa (MeV)')\n",
    "plt.ylabel(r'$\\epsilon$')\n",
    "plt.legend()\n",
    "plt.xscale('log')\n",
    "plt.yscale('log')\n",
    "plt.grid(True)\n",
    "plt.show() "
   ]
  }
 ],
 "metadata": {
  "kernelspec": {
   "display_name": "base",
   "language": "python",
   "name": "python3"
  },
  "language_info": {
   "codemirror_mode": {
    "name": "ipython",
    "version": 3
   },
   "file_extension": ".py",
   "mimetype": "text/x-python",
   "name": "python",
   "nbconvert_exporter": "python",
   "pygments_lexer": "ipython3",
   "version": "3.9.12"
  }
 },
 "nbformat": 4,
 "nbformat_minor": 2
}
