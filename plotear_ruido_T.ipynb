{
 "cells": [
  {
   "cell_type": "code",
   "execution_count": 48,
   "metadata": {},
   "outputs": [],
   "source": [
    "import matplotlib.pyplot as plt\n",
    "import numpy as np\n",
    "import os\n",
    "import csv\n",
    "import pandas as pd\n",
    "import seaborn as sns"
   ]
  },
  {
   "cell_type": "code",
   "execution_count": 49,
   "metadata": {},
   "outputs": [
    {
     "data": {
      "image/png": "[encoded data removed]",
      "text/plain": [
       "<Figure size 432x72 with 1 Axes>"
      ]
     },
     "metadata": {
      "needs_background": "light"
     },
     "output_type": "display_data"
    },
    {
     "data": {
      "image/png": "[encoded data removed]",
      "text/plain": [
       "<Figure size 432x72 with 1 Axes>"
      ]
     },
     "metadata": {
      "needs_background": "light"
     },
     "output_type": "display_data"
    }
   ],
   "source": [
    "#DEFINIMOS PALETA DE COLOR AESTHETIC DE AZULES\n",
    "cold_palette = sns.color_palette('crest') # Default color palette\n",
    "#print(cold_palette)  # Prints the RGB tuples that make up this color palette\n",
    "sns.palplot(cold_palette) # Plotting your palette!\n",
    "#sns.palplot(cold_palette[0])\n",
    "\n",
    "hot_palette = sns.color_palette('rocket') \n",
    "sns.palplot(hot_palette)\n",
    "#RdPu\n",
    "\n",
    "#plt.show()"
   ]
  },
  {
   "cell_type": "code",
   "execution_count": 50,
   "metadata": {},
   "outputs": [],
   "source": [
    "directory = 'data_133_testborn'\n",
    "parent_dir = 'c:/Users/Zoe/Desktop/Labo 67/imagenes/'\n",
    "archivo='ruido_T.txt'\n",
    "file_path = os.path.join(parent_dir, directory, archivo)\n"
   ]
  },
  {
   "cell_type": "code",
   "execution_count": 54,
   "metadata": {},
   "outputs": [
    {
     "name": "stdout",
     "output_type": "stream",
     "text": [
      "116\n"
     ]
    }
   ],
   "source": [
    "temperatura=[60,60,60,60,60,60,60,60,60,60,100,100,100,100,60,60,60,60,160,160,160,160,210,210,180,180,150,150,150,100,100,100,100,70,70,70,70]\n",
    "temperatura=np.repeat(100,116)\n",
    "print(len(temperatura))"
   ]
  },
  {
   "cell_type": "code",
   "execution_count": 55,
   "metadata": {},
   "outputs": [],
   "source": [
    "df = pd.read_csv(file_path, sep=',',  header=0, lineterminator='\\n')\n",
    "#print(df)\n",
    "\n",
    "#agrero temp a df\n",
    "df.insert(loc=5, column='temperatura', value=temperatura)\n",
    "\n",
    "#print(df)\n",
    "#Saco datos que no pudo ajustar:\n",
    "\n",
    "#df.iloc[:,2] = df.iloc[:,2].str.replace('\\r', '')\n",
    "# Replace 'NaN' strings with actual NaN values\n",
    "df = df.replace('nan', np.nan)\n",
    "# Remove rows with any NaN values\n",
    "df_cleaned = df.dropna(how='any')\n",
    "\n",
    "#df_cleaned = df_cleaned.drop(28)\n",
    "\n",
    "#print(df_cleaned)\n",
    "\n",
    "\n",
    "\n",
    "\n",
    "\n",
    "#print(df_cleaned)\n"
   ]
  },
  {
   "cell_type": "code",
   "execution_count": 56,
   "metadata": {},
   "outputs": [],
   "source": [
    "#Filtrado\n",
    "df_cleaned = df_cleaned[df_cleaned['sigmaOS'] <= 1]\n",
    "df_cleaned = df_cleaned[df_cleaned['sigmaOS'] > 0]"
   ]
  },
  {
   "cell_type": "code",
   "execution_count": 57,
   "metadata": {},
   "outputs": [],
   "source": [
    "ids = df_cleaned.iloc[:,0]\n",
    "ruido = df_cleaned.iloc[:,1]\n",
    "error_ruido = df_cleaned.iloc[:,2].astype(float)\n",
    "ruido2 = df_cleaned.iloc[:,3]\n",
    "lambda_see = df_cleaned.iloc[:,4]\n",
    "temperatura=df_cleaned.iloc[:,5]\n",
    "\n",
    "dias=0.039 \n",
    "lambda_see=lambda_see/dias\n"
   ]
  },
  {
   "cell_type": "code",
   "execution_count": 58,
   "metadata": {},
   "outputs": [
    {
     "data": {
      "text/plain": [
       "Text(0, 0.5, 'Ruido [e-]')"
      ]
     },
     "execution_count": 58,
     "metadata": {},
     "output_type": "execute_result"
    },
    {
     "data": {
      "image/png": "[encoded data removed]",
      "text/plain": [
       "<Figure size 432x288 with 2 Axes>"
      ]
     },
     "metadata": {
      "needs_background": "light"
     },
     "output_type": "display_data"
    }
   ],
   "source": [
    "colors=df_cleaned['temperatura']\n",
    "\n",
    "plt.grid()\n",
    "#plt.errorbar(ids, ruido, yerr=error_ruido, fmt='.', color='gray')\n",
    "plt.errorbar(ids, ruido, yerr=error_ruido, fmt='none', ecolor='gray', label='Error')\n",
    "plt.scatter(ids, ruido, c=colors, cmap='viridis', marker='o', label='Datos')\n",
    "plt.colorbar(label='Temperatura')\n",
    "plt.legend()\n",
    "plt.xlabel(\"ID\")\n",
    "plt.ylabel(\"Ruido [e-]\")"
   ]
  },
  {
   "cell_type": "code",
   "execution_count": null,
   "metadata": {},
   "outputs": [
    {
     "name": "stdout",
     "output_type": "stream",
     "text": [
      "0     115\n",
      "1     116\n",
      "2     117\n",
      "3     118\n",
      "4     125\n",
      "5     126\n",
      "6     127\n",
      "7     128\n",
      "8     133\n",
      "9     134\n",
      "10     15\n",
      "11     16\n",
      "12     17\n",
      "13     18\n",
      "14    192\n",
      "15    193\n",
      "16    215\n",
      "17    216\n",
      "18     25\n",
      "19     26\n",
      "20     27\n",
      "21     28\n",
      "22     33\n",
      "23     34\n",
      "29     65\n",
      "30     66\n",
      "31     67\n",
      "32     68\n",
      "33     87\n",
      "34     88\n",
      "35     89\n",
      "36     90\n",
      "Name: ID, dtype: int64\n"
     ]
    }
   ],
   "source": [
    "print(ids)"
   ]
  },
  {
   "cell_type": "code",
   "execution_count": 59,
   "metadata": {},
   "outputs": [
    {
     "name": "stdout",
     "output_type": "stream",
     "text": [
      "0      10.388323\n",
      "1      10.461097\n",
      "2      10.414198\n",
      "3      11.534236\n",
      "4      10.741985\n",
      "         ...    \n",
      "108     9.700132\n",
      "109     2.564103\n",
      "110     5.736051\n",
      "113     2.564103\n",
      "114     2.564103\n",
      "Name: lambda \\r, Length: 113, dtype: float64\n"
     ]
    },
    {
     "data": {
      "text/plain": [
       "Text(0, 0.5, 'Ruido por píxel [e-/pix /day]')"
      ]
     },
     "execution_count": 59,
     "metadata": {},
     "output_type": "execute_result"
    },
    {
     "data": {
      "image/png": "[encoded data removed]",
      "text/plain": [
       "<Figure size 432x288 with 2 Axes>"
      ]
     },
     "metadata": {
      "needs_background": "light"
     },
     "output_type": "display_data"
    }
   ],
   "source": [
    "colors=df_cleaned['temperatura']\n",
    "plt.grid()\n",
    "\n",
    "print(lambda_see)\n",
    "\n",
    "\n",
    "plt.errorbar(ids, lambda_see, yerr=ruido2, fmt='none', ecolor='gray', label='Error')\n",
    "plt.scatter(ids, lambda_see, c=colors, cmap='viridis', marker='o', label='Datos')\n",
    "\n",
    "plt.colorbar(label='Temperatura')\n",
    "plt.legend()\n",
    "plt.xlabel(\"ID\")\n",
    "plt.ylabel(\"Ruido por píxel [e-/pix /day]\")"
   ]
  },
  {
   "cell_type": "code",
   "execution_count": 60,
   "metadata": {},
   "outputs": [
    {
     "data": {
      "text/plain": [
       "Text(0, 0.5, 'Ruido por píxel [e-/pix]')"
      ]
     },
     "execution_count": 60,
     "metadata": {},
     "output_type": "execute_result"
    },
    {
     "data": {
      "image/png": "[encoded data removed]",
      "text/plain": [
       "<Figure size 432x288 with 1 Axes>"
      ]
     },
     "metadata": {
      "needs_background": "light"
     },
     "output_type": "display_data"
    }
   ],
   "source": [
    "\n",
    "plt.grid()\n",
    "plt.errorbar(temperatura, lambda_see, yerr=ruido2, fmt='o', color=cold_palette[1])\n",
    "#plt.legend()\n",
    "plt.xlabel(\"Temperatura [K]\")\n",
    "plt.ylabel(\"Ruido por píxel [e-/pix]\")\n"
   ]
  },
  {
   "cell_type": "code",
   "execution_count": 61,
   "metadata": {},
   "outputs": [
    {
     "data": {
      "text/plain": [
       "Text(0, 0.5, 'Ruido [e-]')"
      ]
     },
     "execution_count": 61,
     "metadata": {},
     "output_type": "execute_result"
    },
    {
     "data": {
      "image/png": "[encoded data removed]",
      "text/plain": [
       "<Figure size 432x288 with 1 Axes>"
      ]
     },
     "metadata": {
      "needs_background": "light"
     },
     "output_type": "display_data"
    }
   ],
   "source": [
    "plt.grid()\n",
    "plt.errorbar(temperatura, ruido, yerr=error_ruido, fmt='o', color=cold_palette[1])\n",
    "#plt.legend()\n",
    "plt.xlabel(\"Temperatura [K]\")\n",
    "plt.ylabel(\"Ruido [e-]\")\n"
   ]
  }
 ],
 "metadata": {
  "kernelspec": {
   "display_name": "base",
   "language": "python",
   "name": "python3"
  },
  "language_info": {
   "codemirror_mode": {
    "name": "ipython",
    "version": 3
   },
   "file_extension": ".py",
   "mimetype": "text/x-python",
   "name": "python",
   "nbconvert_exporter": "python",
   "pygments_lexer": "ipython3",
   "version": "3.9.12"
  },
  "orig_nbformat": 4
 },
 "nbformat": 4,
 "nbformat_minor": 2
}
