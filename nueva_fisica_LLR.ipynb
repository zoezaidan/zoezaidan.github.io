{
 "cells": [
  {
   "cell_type": "code",
   "execution_count": 1,
   "metadata": {},
   "outputs": [],
   "source": [
    "import datetime\n",
    "import numpy as np\n",
    "import matplotlib.pyplot as plt\n",
    "import scipy as sp\n",
    "from scipy.stats import poisson, chi2, expon, binom\n",
    "from scipy.optimize import curve_fit, minimize\n",
    "from functools import partial \n",
    "from scipy.integrate import quad\n",
    "from scipy.special import gammaln\n",
    "import pandas as pd\n",
    "import time\n",
    "import random as rnd\n",
    "from tqdm import tqdm\n",
    "import math \n",
    "import sympy \n",
    "from mpl_toolkits.mplot3d import Axes3D\n",
    "from matplotlib.animation import FuncAnimation\n",
    "\n",
    "\n",
    "\n",
    "colors=['darkcyan','indianred','#fb8b24','#392f5a',  'palegoldenrod','olivedrab']\n"
   ]
  },
  {
   "cell_type": "markdown",
   "metadata": {},
   "source": [
    "## Defino fondo y señal"
   ]
  },
  {
   "cell_type": "code",
   "execution_count": 2,
   "metadata": {},
   "outputs": [],
   "source": [
    "def bkg_simul(N,emin,emax):\n",
    "    bkg = np.array([])\n",
    "    for j in range(0,N):\n",
    "        f = rnd.randint(emin,emax)\n",
    "        bkg=np.append(bkg,f)\n",
    "    return np.array(bkg)\n",
    "\n",
    "def signal_expo_simul(M,lamb,emax):\n",
    "    signal = np.array([])\n",
    "    count = 0\n",
    "    while count<M:\n",
    "        s = np.random.exponential(1/lamb)\n",
    "        if s<emax:\n",
    "            count += 1\n",
    "            signal = np.append(signal,s)\n",
    "    return np.array(signal)\n",
    "\n",
    "def datos_e_histogramas(N, M, emin, emax, lamb, nbins): #devuelve n y m\n",
    "    bkg = bkg_simul(N, emin, emax)\n",
    "    sgn = signal_expo_simul(M, lamb, emax) #Ron\n",
    "    tot = np.concatenate((bkg,sgn))\n",
    "    bkg_solo = bkg_simul(N, emin, emax) #Roff\n",
    "\n",
    "    m_tot=np.histogram(bkg_solo, bins=nbins) #ROFF\n",
    "    n_tot=np.histogram(tot, bins=nbins) #RON\n",
    "    m=m_tot[0]\n",
    "    n=n_tot[0]\n",
    "    return(m,n)\n",
    "\n",
    "def exponencial(x,mu):\n",
    "            return mu*np.exp(-mu*x)\n",
    "\n",
    "\n",
    "def sm(M, emin, emax, lamb, nbins): #devuelve s\n",
    "    borde_bins = np.linspace(emin,emax,nbins+1)\n",
    "    areas_integradas = np.array([])\n",
    "    #errores_integracion = np.array([])\n",
    "    for i in range(nbins):\n",
    "        lower_limit = borde_bins[i]\n",
    "        upper_limit = borde_bins[i+1]\n",
    "        result, error = quad(exponencial, lower_limit, upper_limit, args=(lamb))\n",
    "        areas_integradas = np.append(areas_integradas, result)\n",
    "        #errores_integracion = np.append(errores_integracion, error)\n",
    "\n",
    "    s = M*areas_integradas\n",
    "    return s"
   ]
  },
  {
   "cell_type": "code",
   "execution_count": 3,
   "metadata": {},
   "outputs": [],
   "source": [
    "#errores del histograma\n",
    "def errores(histo,rep):\n",
    "    total=histo.sum()\n",
    "    p_i=histo/total\n",
    "    err_y=np.sqrt(total/rep*p_i*(1-p_i))\n",
    "    return err_y"
   ]
  },
  {
   "cell_type": "markdown",
   "metadata": {},
   "source": [
    "## Defino las funciones para calcular $ln(\\mathcal{L})$ "
   ]
  },
  {
   "cell_type": "code",
   "execution_count": 4,
   "metadata": {},
   "outputs": [],
   "source": [
    "def ln_poisson_bin(k,mu):\n",
    "    return k*np.log(mu)-gammaln(k + 1)-mu\n",
    "\n",
    "def log_likelihood(n, nu): \n",
    "    return(n*np.log(nu)-gammaln(n+1)-nu)\n",
    "\n",
    "#ambas funciones son iguales\n",
    "\n",
    "\n",
    "def lnL(mu,theta,n,m,sM,tau=1):\n",
    "    lnL=0\n",
    "    for i in range(len(n)):\n",
    "        on = ln_poisson_bin(n[i],mu*sM[i]+theta)\n",
    "        off = ln_poisson_bin(m[i],tau*theta)\n",
    "        lnL += on+off \n",
    "        return lnL\n",
    "\n",
    "\n",
    "def log_likelihood_conjunta(param, ctes): #pasar como tupla de parametros y ctes\n",
    "    mu, theta = param\n",
    "    s, n, m, tau = ctes \n",
    "    N = np.size(n)\n",
    "    ln_total = 0\n",
    "    for j in range(N):\n",
    "        nu_1 = mu*s[j]+theta\n",
    "        nu_2 = tau*theta\n",
    "        ln_total += log_likelihood(nu_1, n[j])+log_likelihood(nu_2, m[j])\n",
    "    return(-1*ln_total) \n",
    "\n",
    "#la unica diferencia es el -\n",
    "\n",
    "#funciones auxiliares para maximizar (por eso el menos)\n",
    "\n",
    "def mlnL2(params,kON,kOFF,sM,tau=1):\n",
    "    mu, theta = params[0], params[1]\n",
    "    return -1*lnL(mu,theta,kON,kOFF,sM,tau)\n",
    "\n",
    "def mlnL1(params,mu,kON,kOFF,sM,tau=1):\n",
    "    theta = params[0]\n",
    "    return -1*lnL(mu,theta,kON,kOFF,sM,tau)\n",
    "\n",
    "\n",
    "\n",
    "# Construyo el estadístico\n",
    "def construir_estadistico(N, nbins, emin, emax, M, lamb, tau, Nsamp, mu):\n",
    "    s=sm(M, emin, emax, lamb, nbins)\n",
    "    \n",
    "    t_dist=np.array([])\n",
    "    for i in tqdm(range(Nsamp)):\n",
    "    \n",
    "        # ROFF\n",
    "        rOFF = bkg_simul(N,emin,emax)\n",
    "        kOFF,_ = np.histogram(rOFF, nbins)\n",
    "        # RON\n",
    "        bkg = bkg_simul(N,emin,emax)\n",
    "        signal = signal_expo_simul(M, lamb, emax)\n",
    "        rON = np.concatenate((bkg,signal))\n",
    "        kON,_ = np.histogram(rON, nbins)\n",
    "        \n",
    "        # L(mu_hat,theta_hat)\n",
    "        initial_guess = [1, 100]  \n",
    "        result = minimize(mlnL2, initial_guess, args=(kON, kOFF, s, tau))\n",
    "        mu_hat, theta_hat = result.x\n",
    "        \n",
    "        # L(mu,theta_hat_hat)  \n",
    "        \n",
    "        initial_guess = [100]  \n",
    "        result = minimize(mlnL1, initial_guess, args=(mu, kON, kOFF, s, tau))\n",
    "        theta_hat_hat = result.x\n",
    "        \n",
    "        t_mu = 2*(lnL(mu_hat,theta_hat,kON,kOFF,s)-lnL(mu,theta_hat_hat,kON,kOFF,s,tau))\n",
    "        t_dist=np.append(t_dist, t_mu)\n",
    "        \n",
    "    return t_dist"
   ]
  },
  {
   "cell_type": "markdown",
   "metadata": {},
   "source": [
    "## Defino los parámetros constantes"
   ]
  },
  {
   "cell_type": "code",
   "execution_count": 5,
   "metadata": {},
   "outputs": [
    {
     "name": "stdout",
     "output_type": "stream",
     "text": [
      "Optimización del denominador:\n",
      "Valor óptimo de mu: 2.16\n",
      "Valor óptimo de theta: 93.0\n",
      "Valor óptimo de Log Likehood -6.456\n",
      "\n",
      "Optimización del numerador:\n",
      "Valor óptimo de theta para mu = 2.160273372056132: 93.0\n",
      "Valor óptimo de Log Likehood -6.456\n"
     ]
    },
    {
     "name": "stderr",
     "output_type": "stream",
     "text": [
      "  0%|          | 0/1000 [00:00<?, ?it/s]"
     ]
    },
    {
     "name": "stderr",
     "output_type": "stream",
     "text": [
      "100%|██████████| 1000/1000 [00:26<00:00, 37.99it/s]\n",
      "100%|██████████| 1000/1000 [00:26<00:00, 37.89it/s]\n"
     ]
    },
    {
     "data": {
      "image/png": "[encoded data removed]",
      "text/plain": [
       "<Figure size 1440x360 with 1 Axes>"
      ]
     },
     "metadata": {
      "needs_background": "light"
     },
     "output_type": "display_data"
    }
   ],
   "source": [
    "N = 1000\n",
    "M = 20\n",
    "emin = 0\n",
    "emax = 50\n",
    "lamb = 0.1\n",
    "nbins = 10\n",
    "tau = emax/emax\n",
    "\n",
    "\n",
    "m, n = datos_e_histogramas(N, M, emin, emax, lamb, nbins) #off / on\n",
    "s = sm(M, emin, emax, lamb, nbins) #del modelo\n",
    "ctes = s, m, n, tau\n",
    "\n",
    "#optimizo función de mu y de theta (denominador)\n",
    "initial_guess = [1, 100]  \n",
    "bounds = ((1e-10, 100), (1e-5, 1000))  # Límite inferior y superior para mu y theta respectivamente\n",
    "result = minimize(mlnL2, initial_guess, args=(n, m, s, tau), bounds=bounds)\n",
    "mu_hat, theta_hat = result.x\n",
    "print(\"Optimización del denominador:\")\n",
    "print(\"Valor óptimo de mu:\", round(mu_hat,3))\n",
    "print(\"Valor óptimo de theta:\", round(theta_hat,3))\n",
    "print(\"Valor óptimo de Log Likehood\", round(lnL(mu_hat,theta_hat,n,m,s, tau),3))\n",
    "print('')\n",
    "\n",
    "#optimizo función de theta (numerador)\n",
    "initial_guess = [100]  \n",
    "mu=mu_hat\n",
    "result = minimize(mlnL1, initial_guess, args=(mu, n, m, s, tau))\n",
    "theta_hat_hat = result.x\n",
    "print(\"Optimización del numerador:\")\n",
    "print(f\"Valor óptimo de theta para mu = {mu}:\", round(theta_hat_hat[0],3))\n",
    "print(\"Valor óptimo de Log Likehood\", round(lnL(mu,theta_hat_hat,n,m,s, tau)[0],3))\n",
    "\n",
    "#hago simulación del estadístico\n",
    "Nsamp = 1000 #cantidad de veces que voy a simular\n",
    "mu_0 = 0\n",
    "mu_1 = 1\n",
    "t_dist_0 = construir_estadistico(N, nbins, emin, emax, M, lamb, tau, Nsamp, mu_0)\n",
    "t_dist_1 = construir_estadistico(N, nbins, emin, emax, M, lamb, tau, Nsamp, mu_1)\n",
    "\n",
    "\n",
    "plt.figure(figsize=(20, 5))\n",
    "binNum=50\n",
    "histt_0 = plt.hist(t_dist_0, bins=binNum, density=True, label=f'$t_d con $\\mu=0$ ', histtype='step', color=colors[0])\n",
    "binCenter = 0.5 * (histt_0[1][1:] + histt_0[1][:-1]) \n",
    "plt.errorbar(binCenter,histt_0[0],yerr=errores(histt_0[0],len(t_dist_0)), fmt='.', color=colors[0])\n",
    "\n",
    "histt_1 = plt.hist(t_dist_1, bins=binNum, density=True, label=f'$t_d$ con $\\mu=1$ ', histtype='step', color=colors[2])\n",
    "binCenter = 0.5 * (histt_1[1][1:] + histt_1[1][:-1]) \n",
    "plt.errorbar(binCenter,histt_1[0],yerr=errores(histt_1[0],len(t_dist_1)), fmt='.', color=colors[2])\n",
    "\n",
    "\n",
    "x = np.linspace(0,10, 2000)  # Puedes ajustar el rango según tus necesidades, la ajusto a una chi2 de 1 gl\n",
    "pdf = chi2.pdf(x, df=1)\n",
    "plt.plot(x, pdf, label=f'Chi-squared df=1', color=colors[1])\n",
    "plt.xlabel('x')\n",
    "plt.ylabel('PDF')\n",
    "plt.yscale('log')\n",
    "plt.legend()\n",
    "plt.grid(True)\n",
    "plt.show()"
   ]
  },
  {
   "cell_type": "code",
   "execution_count": 6,
   "metadata": {},
   "outputs": [
    {
     "name": "stderr",
     "output_type": "stream",
     "text": [
      "C:\\Users\\Zoe\\AppData\\Local\\Temp\\ipykernel_17504\\2496143617.py:2: RuntimeWarning: divide by zero encountered in log\n",
      "  return k*np.log(mu)-gammaln(k + 1)-mu\n"
     ]
    },
    {
     "data": {
      "image/png": "[encoded data removed]",
      "text/plain": [
       "<Figure size 432x288 with 1 Axes>"
      ]
     },
     "metadata": {
      "needs_background": "light"
     },
     "output_type": "display_data"
    }
   ],
   "source": [
    "mu_array = np.linspace(0,10)\n",
    "theta_array = np.linspace(0,1000)\n",
    "mu_array, theta_array = np.meshgrid(mu_array, theta_array)\n",
    "log_array = lnL(mu_array,theta_array,n,m,s,tau)\n",
    "fig = plt.figure()\n",
    "\n",
    "# Añadir un subplot 3D\n",
    "ax = fig.add_subplot(111, projection='3d')\n",
    "\n",
    "# Crear el gráfico de dispersión en 3D\n",
    "surf=ax.plot_surface(mu_array, theta_array, log_array, cmap='viridis')\n",
    "\n",
    "# Etiquetas de los ejes\n",
    "ax.set_xlabel(r'$\\mu$')\n",
    "ax.set_ylabel(r'$\\theta$')\n",
    "ax.set_zlabel(r'ln(L)')\n",
    "\n",
    "# Mostrar el gráfico\n",
    "#ax.view_init(elev=20, azim=30)\n",
    "# Función de inicialización\n",
    "def init():\n",
    "    return [surf]\n",
    "\n",
    "def update(frame, surf, ax):\n",
    "    # Actualizar los datos de la superficie\n",
    "    z_new = lnL(mu_array, theta_array + frame, n, m, s, tau)\n",
    "    surf.set_array(z_new.ravel())\n",
    "    surf.set_facecolors(surf.to_rgba(z_new.ravel()))\n",
    "\n",
    "# Crear la animación\n",
    "animation = FuncAnimation(fig, update, frames=np.arange(0, 360, 1), init_func=init, fargs=(surf, ax), interval=50, blit=False)\n",
    "\n",
    "# Mostrar la animación\n",
    "plt.show()"
   ]
  },
  {
   "cell_type": "code",
   "execution_count": 7,
   "metadata": {},
   "outputs": [
    {
     "data": {
      "image/png": "[encoded data removed]",
      "text/plain": [
       "<Figure size 432x288 with 1 Axes>"
      ]
     },
     "metadata": {
      "needs_background": "light"
     },
     "output_type": "display_data"
    }
   ],
   "source": [
    "import numpy as np\n",
    "import matplotlib.pyplot as plt\n",
    "from matplotlib.animation import FuncAnimation\n",
    "from mpl_toolkits.mplot3d import Axes3D\n",
    "\n",
    "# Configurar el modo notebook para animaciones interactivas\n",
    "\n",
    "\n",
    "# Crear datos para el gráfico\n",
    "t = np.linspace(0, 10, 100)\n",
    "x = np.sin(t)\n",
    "y = np.cos(t)\n",
    "z = t\n",
    "\n",
    "# Crear la figura y el eje 3D\n",
    "fig = plt.figure()\n",
    "ax = fig.add_subplot(111, projection='3d')\n",
    "\n",
    "# Crear la línea que se animará\n",
    "line, = ax.plot(x, y, z, label='Trayectoria', color='b')\n",
    "\n",
    "# Función de inicialización para la animación\n",
    "def init():\n",
    "    line.set_data([], [])\n",
    "    line.set_3d_properties([])\n",
    "    return line,\n",
    "\n",
    "# Función de actualización para la animación\n",
    "def update(frame):\n",
    "    line.set_data(x[:frame], y[:frame])\n",
    "    line.set_3d_properties(z[:frame])\n",
    "    return line,\n",
    "\n",
    "# Configuración de la animación\n",
    "ani = FuncAnimation(fig, update, frames=len(t), init_func=init, blit=True)\n",
    "\n",
    "# Mostrar la animación y asignarla a una variable\n",
    "animation_variable = plt.show()\n"
   ]
  },
  {
   "cell_type": "markdown",
   "metadata": {},
   "source": [
    "Calculo el denominador"
   ]
  },
  {
   "cell_type": "code",
   "execution_count": 8,
   "metadata": {},
   "outputs": [],
   "source": [
    "def calculate_log_L_den(ctes_val):\n",
    "    s, m, n, tau = ctes_val\n",
    "    initial_guess = [1, 100]\n",
    "    bounds = [(0, 10), (0.0000001, 1000)]  # Adjust as needed\n",
    "    objetivo_parcial = partial(log_likelihood_conjunta, ctes=[s, m, n, tau])\n",
    "    result = minimize(objetivo_parcial, initial_guess, bounds=bounds) #falta agregar un parametro\n",
    "\n",
    "    if result.success:\n",
    "        optimal_mu, optimal_theta = result.x\n",
    "        #print(\"Optimal mu:\", optimal_mu)\n",
    "        #print(\"Optimal theta:\", optimal_theta)\n",
    "        #print(\"Optimal value of the log-likelihood:\", result.fun)\n",
    "        #print(result.fun, optimal_mu, optimal_theta)\n",
    "        return result.fun, optimal_mu, optimal_theta\n",
    "    else:\n",
    "        print(\"Optimization failed:\", result.message)\n",
    "        return result.message\n",
    "    \n"
   ]
  },
  {
   "cell_type": "markdown",
   "metadata": {},
   "source": [
    "Calculo el numerador"
   ]
  },
  {
   "cell_type": "code",
   "execution_count": 9,
   "metadata": {},
   "outputs": [],
   "source": [
    "def log_likelihood_conjunta2(var, ctes): #pasar como tupla de parametros y ctes\n",
    "    theta = var\n",
    "    s, n, m, tau, mu = ctes \n",
    "    N = np.size(n)\n",
    "    ln_total = 0\n",
    "    for j in range(N):\n",
    "        nu_1 = mu*s[j]+theta\n",
    "        nu_2 = tau*theta\n",
    "        ln_total += log_likelihood(nu_1, n[j])+log_likelihood(nu_2, m[j])\n",
    "    return(-1*ln_total)\n",
    "\n",
    "\n",
    "def calculate_log_L_num(mu_barrido, ctes):\n",
    "    s, n, m, tau = ctes\n",
    "    #mu_barrido=[optimal_mu] #chequeo y funciona\n",
    "    #print(mu_barrido)\n",
    "    mus = np.array([])\n",
    "    thetas = np.array([])\n",
    "    L_num = np.array([])\n",
    "    for i in mu_barrido:\n",
    "        initial_guess = [100]\n",
    "        bounds = [(0.0000001, 1000)]  # Adjust as needed\n",
    "        objetivo_parcial = partial(log_likelihood_conjunta2, ctes=[s, n, m, tau, i])\n",
    "        result = minimize(objetivo_parcial, initial_guess, bounds=bounds) #falta agregar un parametro\n",
    "\n",
    "        if result.success:\n",
    "            thetas = np.append(thetas, result.x)\n",
    "            L_num = np.append(L_num, result.fun)\n",
    "            mus = np.append(mus, i)\n",
    "            #print(\"Optimal theta:\", optimal_theta)\n",
    "            #print(\"Optimal value of the log-likelihood:\", result.fun)\n",
    "        #else:\n",
    "            #print(\"Optimization failed:\", result.message) #falla dos veces\n",
    "    \n",
    "    return L_num, thetas, mus\n",
    "\n",
    "def calculate_log_L_num2(mu, ctes):\n",
    "    s, n, m, tau = ctes\n",
    "    initial_guess = [100]\n",
    "    bounds = [(0.0000001, 1000)]  # Adjust as needed\n",
    "    objetivo_parcial = partial(log_likelihood_conjunta2, ctes=[s, n, m, tau, mu])\n",
    "    result = minimize(objetivo_parcial, initial_guess, bounds=bounds) #falta agregar un parametro\n",
    "    try:\n",
    "        if result.success:\n",
    "            thetas = result.x\n",
    "            L_num = result.fun\n",
    "            return L_num, thetas\n",
    "    except:\n",
    "        pass\n",
    "    "
   ]
  },
  {
   "cell_type": "code",
   "execution_count": 10,
   "metadata": {},
   "outputs": [],
   "source": [
    "def MLE(params):\n",
    "  tvar = np.linspace(0,1000,10) #Hago variar numéricamente el parámetro t para hallar el maximo de la funcion\n",
    "  log_q2_tvar_i= np.array([])\n",
    "  for i in range(len(tvar)):\n",
    "      l_q2 = log_likelihood_conjunta2(tvar[i],params)\n",
    "      log_q2_tvar_i=np.append(log_q2_tvar_i,l_q2)\n",
    "\n",
    "  indice = np.argmax(log_q2_tvar_i)\n",
    "  theta_max = tvar[indice]\n",
    "  return(theta_max)\n"
   ]
  },
  {
   "cell_type": "markdown",
   "metadata": {},
   "source": [
    "Calculo el t"
   ]
  },
  {
   "cell_type": "code",
   "execution_count": 11,
   "metadata": {},
   "outputs": [],
   "source": [
    "def calculate_t(ctes, mu_barrido):\n",
    "    log_L_den, optimal_mu, optimal_theta = calculate_log_L_den(ctes)\n",
    "\n",
    "    \n",
    "    log_L_num = calculate_log_L_num(mu_barrido, ctes)[0]\n",
    "    mu = calculate_log_L_num(mu_barrido, ctes)[2]\n",
    "    t = -2*(log_L_num-log_L_den)\n",
    "    \n",
    "\n",
    "    plt.scatter(mu, t, color=colors[1])\n",
    "    plt.xlabel(r\"$\\mu$\")\n",
    "    plt.ylabel(r\"t\")\n",
    "    #print('Estadístico t:',t)\n",
    "    #plt.legend()\n",
    "    plt.show()"
   ]
  },
  {
   "cell_type": "code",
   "execution_count": null,
   "metadata": {},
   "outputs": [],
   "source": [
    "\n"
   ]
  },
  {
   "cell_type": "code",
   "execution_count": 12,
   "metadata": {},
   "outputs": [
    {
     "data": {
      "image/png": "[encoded data removed]",
      "text/plain": [
       "<Figure size 432x288 with 1 Axes>"
      ]
     },
     "metadata": {
      "needs_background": "light"
     },
     "output_type": "display_data"
    }
   ],
   "source": [
    "mu_barrido = np.linspace(1e-6,1,1000)\n",
    "calculate_t(ctes, mu_barrido)"
   ]
  },
  {
   "cell_type": "markdown",
   "metadata": {},
   "source": [
    "## Punto 7"
   ]
  },
  {
   "cell_type": "code",
   "execution_count": 13,
   "metadata": {},
   "outputs": [],
   "source": [
    "def calculate_t_fixing_mu(ctes, mu):\n",
    "    log_L_den, optimal_mu, optimal_theta = calculate_log_L_den(ctes)\n",
    "    log_L_num = calculate_log_L_num2(mu, ctes)\n",
    "    #print(log_L_den, log_L_num)\n",
    "    t = 2*(log_L_num-log_L_den)\n",
    "    return t\n",
    "    "
   ]
  },
  {
   "cell_type": "code",
   "execution_count": 14,
   "metadata": {},
   "outputs": [
    {
     "ename": "TypeError",
     "evalue": "datos_e_histogramas() missing 4 required positional arguments: 'emin', 'emax', 'lamb', and 'nbins'",
     "output_type": "error",
     "traceback": [
      "\u001b[1;31m---------------------------------------------------------------------------\u001b[0m",
      "\u001b[1;31mTypeError\u001b[0m                                 Traceback (most recent call last)",
      "Input \u001b[1;32mIn [14]\u001b[0m, in \u001b[0;36m<cell line: 1>\u001b[1;34m()\u001b[0m\n\u001b[1;32m----> 1\u001b[0m m, n \u001b[38;5;241m=\u001b[39m \u001b[43mdatos_e_histogramas\u001b[49m\u001b[43m(\u001b[49m\u001b[43mN\u001b[49m\u001b[43m,\u001b[49m\u001b[43mM\u001b[49m\u001b[43m)\u001b[49m\n\u001b[0;32m      2\u001b[0m s \u001b[38;5;241m=\u001b[39m sm(M)\n\u001b[0;32m      3\u001b[0m tau \u001b[38;5;241m=\u001b[39m \u001b[38;5;241m1\u001b[39m\n",
      "\u001b[1;31mTypeError\u001b[0m: datos_e_histogramas() missing 4 required positional arguments: 'emin', 'emax', 'lamb', and 'nbins'"
     ]
    }
   ],
   "source": [
    "m, n = datos_e_histogramas(N,M)\n",
    "s = sm(M)\n",
    "tau = 1\n",
    "mu = 1\n",
    "ctes = s, m, n, tau\n",
    "\n",
    "#mu_hat = calculate_log_L_den(ctes)[1]\n",
    "#num = calculate_log_L_num2(1, ctes)\n",
    "t = calculate_t_fixing_mu(ctes, mu)\n",
    "#print(t)\n"
   ]
  },
  {
   "cell_type": "code",
   "execution_count": null,
   "metadata": {},
   "outputs": [
    {
     "name": "stderr",
     "output_type": "stream",
     "text": [
      "  0%|          | 0/1000 [00:00<?, ?it/s]"
     ]
    },
    {
     "name": "stderr",
     "output_type": "stream",
     "text": [
      "  1%|          | 7/1000 [00:00<00:31, 31.31it/s]"
     ]
    },
    {
     "name": "stdout",
     "output_type": "stream",
     "text": [
      "Optimization failed: ABNORMAL_TERMINATION_IN_LNSRCH\n"
     ]
    },
    {
     "name": "stderr",
     "output_type": "stream",
     "text": [
      "  2%|▏         | 16/1000 [00:00<00:26, 36.69it/s]"
     ]
    },
    {
     "name": "stdout",
     "output_type": "stream",
     "text": [
      "Optimization failed: ABNORMAL_TERMINATION_IN_LNSRCH\n"
     ]
    },
    {
     "name": "stderr",
     "output_type": "stream",
     "text": [
      "  4%|▍         | 42/1000 [00:01<00:27, 35.36it/s]"
     ]
    },
    {
     "name": "stdout",
     "output_type": "stream",
     "text": [
      "Optimization failed: ABNORMAL_TERMINATION_IN_LNSRCH\n"
     ]
    },
    {
     "name": "stderr",
     "output_type": "stream",
     "text": [
      " 10%|▉         | 99/1000 [00:02<00:25, 35.48it/s]"
     ]
    },
    {
     "name": "stdout",
     "output_type": "stream",
     "text": [
      "Optimization failed: ABNORMAL_TERMINATION_IN_LNSRCH\n"
     ]
    },
    {
     "name": "stderr",
     "output_type": "stream",
     "text": [
      " 11%|█▏        | 113/1000 [00:03<00:24, 35.98it/s]"
     ]
    },
    {
     "name": "stdout",
     "output_type": "stream",
     "text": [
      "Optimization failed: ABNORMAL_TERMINATION_IN_LNSRCH\n"
     ]
    },
    {
     "name": "stderr",
     "output_type": "stream",
     "text": [
      " 16%|█▌        | 162/1000 [00:04<00:21, 38.36it/s]"
     ]
    },
    {
     "name": "stdout",
     "output_type": "stream",
     "text": [
      "Optimization failed: ABNORMAL_TERMINATION_IN_LNSRCH\n"
     ]
    },
    {
     "name": "stderr",
     "output_type": "stream",
     "text": [
      " 18%|█▊        | 176/1000 [00:04<00:21, 37.80it/s]"
     ]
    },
    {
     "name": "stdout",
     "output_type": "stream",
     "text": [
      "Optimization failed: ABNORMAL_TERMINATION_IN_LNSRCH\n"
     ]
    },
    {
     "name": "stderr",
     "output_type": "stream",
     "text": [
      " 56%|█████▋    | 565/1000 [00:15<00:10, 43.48it/s]"
     ]
    },
    {
     "name": "stdout",
     "output_type": "stream",
     "text": [
      "Optimization failed: ABNORMAL_TERMINATION_IN_LNSRCH\n"
     ]
    },
    {
     "name": "stderr",
     "output_type": "stream",
     "text": [
      " 58%|█████▊    | 580/1000 [00:15<00:09, 42.44it/s]"
     ]
    },
    {
     "name": "stdout",
     "output_type": "stream",
     "text": [
      "Optimization failed: ABNORMAL_TERMINATION_IN_LNSRCH\n"
     ]
    },
    {
     "name": "stderr",
     "output_type": "stream",
     "text": [
      " 77%|███████▋  | 768/1000 [00:20<00:05, 42.89it/s]"
     ]
    },
    {
     "name": "stdout",
     "output_type": "stream",
     "text": [
      "Optimization failed: ABNORMAL_TERMINATION_IN_LNSRCH\n"
     ]
    },
    {
     "name": "stderr",
     "output_type": "stream",
     "text": [
      " 98%|█████████▊| 983/1000 [00:26<00:00, 39.83it/s]"
     ]
    },
    {
     "name": "stdout",
     "output_type": "stream",
     "text": [
      "Optimization failed: ABNORMAL_TERMINATION_IN_LNSRCH\n"
     ]
    },
    {
     "name": "stderr",
     "output_type": "stream",
     "text": [
      "100%|██████████| 1000/1000 [00:26<00:00, 37.67it/s]\n"
     ]
    },
    {
     "data": {
      "text/plain": [
       "(array([7.41862954e-02, 5.49528114e-04, 7.85040163e-05, 1.57008033e-04,\n",
       "        1.64858434e-03, 7.06536147e-03, 1.46802510e-02, 2.51997892e-02,\n",
       "        2.11175804e-02, 4.78874499e-03]),\n",
       " array([-1.76341359e-07,  6.69023185e+00,  1.33804639e+01,  2.00706959e+01,\n",
       "         2.67609279e+01,  3.34511600e+01,  4.01413920e+01,  4.68316240e+01,\n",
       "         5.35218560e+01,  6.02120881e+01,  6.69023201e+01]),\n",
       " <BarContainer object of 10 artists>)"
      ]
     },
     "execution_count": 27,
     "metadata": {},
     "output_type": "execute_result"
    },
    {
     "data": {
      "image/png": "[encoded data removed]",
      "text/plain": [
       "<Figure size 432x288 with 1 Axes>"
      ]
     },
     "metadata": {
      "needs_background": "light"
     },
     "output_type": "display_data"
    }
   ],
   "source": [
    "def montecarlo_t(mu):\n",
    "    tau = 1\n",
    "    m, n = datos_e_histogramas(N,M)\n",
    "    s = sm(M)\n",
    "    params = s, n, m, tau\n",
    "    t = calculate_t_fixing_mu(params, mu)\n",
    "    return(t)\n",
    "    \n",
    "    \n",
    "    \n",
    "  \n",
    "valores_t = np.array([])    \n",
    "for i in tqdm(range(0,1000)):\n",
    "    try:\n",
    "        t = montecarlo_t(0)\n",
    "        if t is not None:\n",
    "            valores_t = np.append(valores_t, t)\n",
    "    except:\n",
    "        pass\n",
    "    \n",
    "\n",
    "#print(valores_t)\n",
    "plt.hist(valores_t, density=True)    "
   ]
  }
 ],
 "metadata": {
  "kernelspec": {
   "display_name": "base",
   "language": "python",
   "name": "python3"
  },
  "language_info": {
   "codemirror_mode": {
    "name": "ipython",
    "version": 3
   },
   "file_extension": ".py",
   "mimetype": "text/x-python",
   "name": "python",
   "nbconvert_exporter": "python",
   "pygments_lexer": "ipython3",
   "version": "3.9.12"
  }
 },
 "nbformat": 4,
 "nbformat_minor": 2
}
